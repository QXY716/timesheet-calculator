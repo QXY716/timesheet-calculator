{
 "cells": [
  {
   "cell_type": "code",
   "execution_count": 435,
   "metadata": {},
   "outputs": [],
   "source": [
    "import xlrd\n",
    "import xlwt\n",
    "import tkinter as tk"
   ]
  },
  {
   "cell_type": "markdown",
   "metadata": {},
   "source": [
    "Create a timetable as input"
   ]
  },
  {
   "cell_type": "code",
   "execution_count": 436,
   "metadata": {},
   "outputs": [],
   "source": [
    "def create_table():\n",
    "    workbook = xlwt.Workbook(encoding= 'ascii')\n",
    "    worksheet = workbook.add_sheet(\"Sheet1\")\n",
    "    worksheet.write(0,0, \"Name\")\n",
    "    worksheet.write(0,1, \"Department/Proffesion\")\n",
    "    for i in range(31):\n",
    "        worksheet.write(0,2+i,str(i+1)+' day')\n",
    "    worksheet.write(0,33, \"Days/hours from 1 to 15\")\n",
    "    worksheet.write(0,34, \"Day/hours from 1 to 31\")\n",
    "    workbook.save(\"timesheet_input.xls\")"
   ]
  },
  {
   "cell_type": "markdown",
   "metadata": {},
   "source": [
    "Create a mapping between position and time\n",
    "\n",
    "Create a mapping between positions and departments"
   ]
  },
  {
   "cell_type": "code",
   "execution_count": 437,
   "metadata": {},
   "outputs": [],
   "source": [
    "part_time = {'Ш_Тр':0.25,'Щ_Тр ':0.25,'Н_Тр':0.25,'К_Тр':0.2,'М_Тр':0.1,'С_О':0.25,'Ш_1_О':0.25,'Ш_2_О':0.25}\n",
    "department = {'Ш_Тр':'Tr','Щ_Тр ':'Tr','Н_Тр':'Tr','К_Тр':'Tr','М_Тр':'Tr','С_О':'o','Ш_1_О':'o','Ш_2_О':'o'}"
   ]
  },
  {
   "cell_type": "markdown",
   "metadata": {},
   "source": [
    "Initialize the object"
   ]
  },
  {
   "cell_type": "code",
   "execution_count": 438,
   "metadata": {},
   "outputs": [],
   "source": [
    "data = xlrd.open_workbook('timesheet_input.xls')\n",
    "datasheet = data.sheets()[0]\n",
    "nrow = datasheet.nrows\n",
    "ncol = datasheet.ncols"
   ]
  },
  {
   "cell_type": "markdown",
   "metadata": {},
   "source": [
    "Calculation result"
   ]
  },
  {
   "cell_type": "code",
   "execution_count": 439,
   "metadata": {},
   "outputs": [],
   "source": [
    "def get_result(row):\n",
    "    name = datasheet.cell_value(row,0)\n",
    "    pos = datasheet.cell_value(row,1)\n",
    "    rowdata=datasheet.row_values(row,2,33)\n",
    "    rate = part_time[pos]\n",
    "    dep = department[pos]\n",
    "    day15 = 0\n",
    "    day31 = 0\n",
    "    for i in range(15):\n",
    "        if rowdata[i]=='О':\n",
    "            day15+=1\n",
    "    for j in range(31):\n",
    "        if rowdata[j]=='О':\n",
    "            day31+=1\n",
    "    result = ('Employee\\'s name: ' + str(name) + '\\n'\n",
    "              'Department: ' + str(dep) + '\\n'\n",
    "              'In 15 days: ' + str(day15) + ' Days' + '/' + str(rate*day15*8) + ' hours' + '\\n'\n",
    "              'In a month: ' + str(day31) + ' Days' + '/' + str(rate*day31*8) + ' hours')\n",
    "    return result"
   ]
  },
  {
   "cell_type": "markdown",
   "metadata": {},
   "source": [
    "Text output"
   ]
  },
  {
   "cell_type": "code",
   "execution_count": 440,
   "metadata": {},
   "outputs": [],
   "source": [
    "def show_result(name):\n",
    "    namelist = datasheet.col_values(0)\n",
    "    try:\n",
    "        index = namelist.index(name)\n",
    "        text = get_result(index)\n",
    "        return text\n",
    "    except:\n",
    "        error = 'No employee found'\n",
    "        return error"
   ]
  },
  {
   "cell_type": "markdown",
   "metadata": {},
   "source": [
    "Use Python Tkinter to build a GUI"
   ]
  },
  {
   "cell_type": "code",
   "execution_count": 441,
   "metadata": {},
   "outputs": [],
   "source": [
    "window=tk.Tk()\n",
    "window.title('timesheet calculator')\n",
    "window.geometry('800x640')\n",
    "text = tk.StringVar()\n",
    "entry = tk.Entry(window,textvariable=text)\n",
    "title = tk.Label(window,text='Enter the employee\\'s name',bg='white',font=('Arial', 12))\n",
    "title.place(relx=0.5,rely=0.1,anchor=\"center\")\n",
    "text.set('')\n",
    "entry.place(relx=0.5,rely=0.2,anchor=\"center\",height=40,width=200)\n",
    "def printEntry():\n",
    "    var= show_result(text.get())\n",
    "    t.delete(\"1.0\",\"end\")\n",
    "    t.insert('end', var)\n",
    "button = tk.Button(window,text='calculate',command=printEntry,height=2,width=20,font=('Arial', 12))\n",
    "button.place(relx=0.5,rely=0.35,anchor=\"center\")\n",
    "t = tk.Text(width=50, height=25)\n",
    "t.place(relx=0.5,rely=0.7,anchor=\"center\")\n",
    "window.mainloop()    "
   ]
  }
 ],
 "metadata": {
  "kernelspec": {
   "display_name": "Python 3.10.6 64-bit",
   "language": "python",
   "name": "python3"
  },
  "language_info": {
   "codemirror_mode": {
    "name": "ipython",
    "version": 3
   },
   "file_extension": ".py",
   "mimetype": "text/x-python",
   "name": "python",
   "nbconvert_exporter": "python",
   "pygments_lexer": "ipython3",
   "version": "3.10.6"
  },
  "orig_nbformat": 4,
  "vscode": {
   "interpreter": {
    "hash": "26de051ba29f2982a8de78e945f0abaf191376122a1563185a90213a26c5da77"
   }
  }
 },
 "nbformat": 4,
 "nbformat_minor": 2
}
